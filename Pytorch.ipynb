{
  "nbformat": 4,
  "nbformat_minor": 0,
  "metadata": {
    "colab": {
      "provenance": [],
      "authorship_tag": "ABX9TyOp3ZMnUcHMwTJ6T+e7O/h2",
      "include_colab_link": true
    },
    "kernelspec": {
      "name": "python3",
      "display_name": "Python 3"
    },
    "language_info": {
      "name": "python"
    }
  },
  "cells": [
    {
      "cell_type": "markdown",
      "metadata": {
        "id": "view-in-github",
        "colab_type": "text"
      },
      "source": [
        "<a href=\"https://colab.research.google.com/github/prukac/Pytorch/blob/main/Pytorch.ipynb\" target=\"_parent\"><img src=\"https://colab.research.google.com/assets/colab-badge.svg\" alt=\"Open In Colab\"/></a>"
      ]
    },
    {
      "cell_type": "code",
      "execution_count": 33,
      "metadata": {
        "id": "D4eKtSL1ADNn"
      },
      "outputs": [],
      "source": [
        "import cv2\n",
        "import numpy as np\n",
        "from google.colab.patches import cv2_imshow\n",
        "import matplotlib.image as mpimg\n",
        "import matplotlib.pyplot as plt\n",
        "import numpy as np\n",
        "from numpy.matlib import repmat\n",
        "import random as rd\n",
        "import cv2\n",
        "import os\n",
        "from PIL import Image\n",
        "import matplotlib.pyplot as plt\n",
        "import tensorflow as tf\n",
        "from keras.preprocessing.image import ImageDataGenerator\n",
        "from skimage import io\n",
        "import pandas as pd\n",
        "import csv\n",
        "import imgaug.augmenters as iaa\n",
        "from google.colab.patches import cv2_imshow"
      ]
    },
    {
      "cell_type": "code",
      "source": [
        "from google.colab import drive\n",
        "drive.mount('/content/drive',force_remount=True)\n",
        "root_dir = \"/content/drive/MyDrive/traindata2/\" #/MyDrive\n",
        "base_dir = root_dir\n",
        "root_dir1 = \"/content/drive/MyDrive/zkouska/\" #/MyDrive\n",
        "base_dir1 = root_dir1"
      ],
      "metadata": {
        "colab": {
          "base_uri": "https://localhost:8080/"
        },
        "id": "NDAF49VMoPRj",
        "outputId": "94b60379-9829-4d51-c06f-367267d2e353"
      },
      "execution_count": 114,
      "outputs": [
        {
          "output_type": "stream",
          "name": "stdout",
          "text": [
            "Mounted at /content/drive\n"
          ]
        }
      ]
    },
    {
      "cell_type": "code",
      "source": [
        "input = np.array([[1,2,1],[1,3,1],[1,1,1]])\n",
        "kernel = np.array([[-1,1],[1,-1]])\n",
        "input.shape\n",
        "def valid_convolution(image, kernel, bias):\n",
        "    m, n = kernel.shape\n",
        "    if (m == n):\n",
        "        y, x = image.shape\n",
        "        y = y - m + 1\n",
        "        x = x - m + 1\n",
        "        new_image = np.zeros((y,x))\n",
        "        for i in range(y):\n",
        "            for j in range(x):\n",
        "                new_image[i][j] = np.sum(image[i:i+m, j:j+m]*kernel) + bias\n",
        "    return new_image\n",
        "\n",
        "\n"
      ],
      "metadata": {
        "colab": {
          "base_uri": "https://localhost:8080/"
        },
        "id": "zAv9sda35beg",
        "outputId": "f4e2f497-94c4-4283-99dd-288c51c06b5c"
      },
      "execution_count": 214,
      "outputs": [
        {
          "output_type": "execute_result",
          "data": {
            "text/plain": [
              "array([[-1.,  1.],\n",
              "       [ 2., -2.]])"
            ]
          },
          "metadata": {},
          "execution_count": 214
        }
      ]
    },
    {
      "cell_type": "code",
      "source": [
        "fnames = os.listdir(base_dir)\n",
        "list0 = []\n",
        "list1 = []\n",
        "list2 = []\n",
        "list3 = []\n",
        "list4 = []\n",
        "list5 = []\n",
        "list6 = []\n",
        "list7 = []\n",
        "list8 = []\n",
        "list9 = []\n",
        "for filename in fnames:\n",
        "  img = cv2.imread(base_dir + filename, cv2.IMREAD_GRAYSCALE)\n",
        "  img1 = img/255\n",
        "  vertical_flattend = img1.flatten()\n",
        "  suma = sum(vertical_flattend)\n",
        "  if \".png\" in filename:\n",
        "    if \"zero\" in filename:\n",
        "      list0.append(suma)\n",
        "    if \"one\" in filename:\n",
        "      list1.append(suma)\n",
        "    if \"two\" in filename:\n",
        "      list2.append(suma)\n",
        "    if \"three\" in filename:\n",
        "      list3.append(suma)\n",
        "    if \"three\" in filename:\n",
        "      list4.append(suma)\n",
        "    if \"five\" in filename:\n",
        "      list5.append(suma)\n",
        "    if \"six\" in filename:\n",
        "      list6.append(suma)\n",
        "    if \"seven\" in filename:\n",
        "      list7.append(suma)\n",
        "    if \"eight\" in filename:\n",
        "      list8.append(suma)\n",
        "    if \"nine\" in filename:\n",
        "      list9.append(suma)\n",
        "  else:\n",
        "    pass\n",
        "sum0 = sum(list0)/len(list0)\n",
        "sum1 = sum(list1)/len(list1)\n",
        "sum2 = sum(list2)/len(list2)\n",
        "sum3 = sum(list3)/len(list3)\n",
        "sum4 = sum(list4)/len(list4)\n",
        "sum5 = sum(list5)/len(list5)\n",
        "sum6 = sum(list6)/len(list6)\n",
        "sum7 = sum(list7)/len(list7)\n",
        "sum8 = sum(list8)/len(list8)\n",
        "sum9 = sum(list9)/len(list9)\n",
        "print('Pocet: je ',sum0)\n",
        "print('Pocet: je ',sum1)\n",
        "print('Pocet: je ',sum2)\n",
        "print('Pocet: je ',sum3)\n",
        "print('Pocet: je ',sum4)\n",
        "print('Pocet: je ',sum5)\n",
        "print('Pocet: je ',sum6)\n",
        "print('Pocet: je ',sum7)\n",
        "print('Pocet: je ',sum8)\n",
        "print('Pocet: je ',sum9)\n",
        "\n"
      ],
      "metadata": {
        "colab": {
          "base_uri": "https://localhost:8080/"
        },
        "id": "API1_YA1Ls34",
        "outputId": "fa111013-feeb-4fdb-9da0-a8d6f1475bdb"
      },
      "execution_count": 35,
      "outputs": [
        {
          "output_type": "stream",
          "name": "stdout",
          "text": [
            "Pocet: je  2076.774957773386\n",
            "Pocet: je  2144.0727416978416\n",
            "Pocet: je  2111.9040641711313\n",
            "Pocet: je  2054.872496025456\n",
            "Pocet: je  2054.872496025456\n",
            "Pocet: je  2134.248877204525\n",
            "Pocet: je  2108.6622727923345\n",
            "Pocet: je  2088.7343692193926\n",
            "Pocet: je  2088.761350762535\n",
            "Pocet: je  2130.4787522281827\n"
          ]
        }
      ]
    },
    {
      "cell_type": "code",
      "source": [],
      "metadata": {
        "id": "qqX_-1XQsPaN"
      },
      "execution_count": null,
      "outputs": []
    },
    {
      "cell_type": "code",
      "source": [
        "img = cv2.imread(base_dir + 'seven_066.png', cv2.IMREAD_GRAYSCALE)\n",
        "img.shape\n",
        "vertical_flattend = img.flatten()\n",
        "vertical_flattend.shape\n",
        "cv2_imshow(img)\n",
        "filter = np.random.randint(1,3, size=len(vertical_flattend))\n",
        "\n",
        "'''\n",
        "for i in range(3599):\n",
        "  if filter[i] == 1:\n",
        "    filter.append(1)\n",
        "  else:\n",
        "    filter.append(0)\n",
        "'''\n",
        "b = vertical_flattend*filter\n",
        "\n",
        "new = np.array(b).reshape((60, 60))\n",
        "#print(vertical_flattend*filter)\n",
        "cv2_imshow(new)\n"
      ],
      "metadata": {
        "colab": {
          "base_uri": "https://localhost:8080/",
          "height": 137
        },
        "id": "ATsV2bjlM1ZM",
        "outputId": "2842d886-307e-471f-8928-1625a9465eda"
      },
      "execution_count": 118,
      "outputs": [
        {
          "output_type": "display_data",
          "data": {
            "text/plain": [
              "<PIL.Image.Image image mode=L size=60x60>"
            ],
            "image/png": "[encoded data removed]"
          },
          "metadata": {}
        },
        {
          "output_type": "display_data",
          "data": {
            "text/plain": [
              "<PIL.Image.Image image mode=L size=60x60>"
            ],
            "image/png": "[encoded data removed]"
          },
          "metadata": {}
        }
      ]
    },
    {
      "cell_type": "code",
      "source": [
        "#Image recognition clasifier\n",
        "img = cv2.imread(base_dir + 'seven_067.png', cv2.IMREAD_GRAYSCALE)\n",
        "filter = np.random.randint(1,5, size=(60,60))\n",
        "print(filter)\n",
        "b = img*filter\n",
        "cv2_imshow(img)\n",
        "cv2_imshow(b)"
      ],
      "metadata": {
        "colab": {
          "base_uri": "https://localhost:8080/",
          "height": 259
        },
        "id": "hEqpbJXeM1XF",
        "outputId": "00568304-89d7-49de-c52b-133e69937055"
      },
      "execution_count": 110,
      "outputs": [
        {
          "output_type": "stream",
          "name": "stdout",
          "text": [
            "[[2 3 1 ... 2 3 1]\n",
            " [3 2 3 ... 2 4 1]\n",
            " [2 3 3 ... 2 3 1]\n",
            " ...\n",
            " [4 4 3 ... 1 2 3]\n",
            " [4 3 1 ... 2 3 1]\n",
            " [3 1 2 ... 3 4 1]]\n"
          ]
        },
        {
          "output_type": "display_data",
          "data": {
            "text/plain": [
              "<PIL.Image.Image image mode=L size=60x60>"
            ],
            "image/png": "[encoded data removed]"
          },
          "metadata": {}
        },
        {
          "output_type": "display_data",
          "data": {
            "text/plain": [
              "<PIL.Image.Image image mode=L size=60x60>"
            ],
            "image/png": "[encoded data removed]"
          },
          "metadata": {}
        }
      ]
    },
    {
      "cell_type": "code",
      "source": [],
      "metadata": {
        "id": "d6DVx82l4pSf"
      },
      "execution_count": null,
      "outputs": []
    },
    {
      "cell_type": "code",
      "source": [
        "fnames = os.listdir(base_dir)\n",
        "list0 = []\n",
        "list1 = []\n",
        "list2 = []\n",
        "list3 = []\n",
        "list4 = []\n",
        "list5 = []\n",
        "list6 = []\n",
        "list7 = []\n",
        "list8 = []\n",
        "list9 = []\n",
        "filter = np.random.randint(1,5, size=(60,60))\n",
        "for filename in fnames:\n",
        "  img = cv2.imread(base_dir + filename, cv2.IMREAD_GRAYSCALE)\n",
        "  #filter = np.random.randint(1,5, size=(60,60))\n",
        "  #print(filter)\n",
        "  b = img*filter\n",
        "  vertical_flattend = img.flatten()\n",
        "  suma = sum(vertical_flattend)\n",
        "  if \".png\" in filename:\n",
        "    if \"zero\" in filename:\n",
        "      list0.append(suma)\n",
        "    if \"one\" in filename:\n",
        "      list1.append(suma)\n",
        "    if \"two\" in filename:\n",
        "      list2.append(suma)\n",
        "    if \"three\" in filename:\n",
        "      list3.append(suma)\n",
        "    if \"three\" in filename:\n",
        "      list4.append(suma)\n",
        "    if \"five\" in filename:\n",
        "      list5.append(suma)\n",
        "    if \"six\" in filename:\n",
        "      list6.append(suma)\n",
        "    if \"seven\" in filename:\n",
        "      list7.append(suma)\n",
        "    if \"eight\" in filename:\n",
        "      list8.append(suma)\n",
        "    if \"nine\" in filename:\n",
        "      list9.append(suma)\n",
        "  else:\n",
        "    pass\n",
        "sum0 = sum(list0)/len(list0)\n",
        "sum1 = sum(list1)/len(list1)\n",
        "sum2 = sum(list2)/len(list2)\n",
        "sum3 = sum(list3)/len(list3)\n",
        "sum4 = sum(list4)/len(list4)\n",
        "sum5 = sum(list5)/len(list5)\n",
        "sum6 = sum(list6)/len(list6)\n",
        "sum7 = sum(list7)/len(list7)\n",
        "sum8 = sum(list8)/len(list8)\n",
        "sum9 = sum(list9)/len(list9)\n",
        "print('Pocet: je ',sum0)\n",
        "print('Pocet: je ',sum1)\n",
        "print('Pocet: je ',sum2)\n",
        "print('Pocet: je ',sum3)\n",
        "print('Pocet: je ',sum4)\n",
        "print('Pocet: je ',sum5)\n",
        "print('Pocet: je ',sum6)\n",
        "print('Pocet: je ',sum7)\n",
        "print('Pocet: je ',sum8)\n",
        "print('Pocet: je ',sum9)\n",
        "\n"
      ],
      "metadata": {
        "colab": {
          "base_uri": "https://localhost:8080/"
        },
        "id": "X4MNa2UfypsI",
        "outputId": "bda5e450-56b0-4278-a8bc-899a596e51ef"
      },
      "execution_count": 111,
      "outputs": [
        {
          "output_type": "stream",
          "name": "stdout",
          "text": [
            "Pocet: je  529577.6142322097\n",
            "Pocet: je  546738.5491329479\n",
            "Pocet: je  538535.5363636364\n",
            "Pocet: je  523992.4864864865\n",
            "Pocet: je  523992.4864864865\n",
            "Pocet: je  544233.4636871509\n",
            "Pocet: je  537708.8795620438\n",
            "Pocet: je  532627.2641509434\n",
            "Pocet: je  532634.1444444444\n",
            "Pocet: je  543272.0818181818\n"
          ]
        }
      ]
    }
  ]
}