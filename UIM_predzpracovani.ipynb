{
  "nbformat": 4,
  "nbformat_minor": 0,
  "metadata": {
    "colab": {
      "provenance": [],
      "authorship_tag": "ABX9TyM0tBVNR0/ukFluq9MbOTLE",
      "include_colab_link": true
    },
    "kernelspec": {
      "name": "python3",
      "display_name": "Python 3"
    },
    "language_info": {
      "name": "python"
    }
  },
  "cells": [
    {
      "cell_type": "markdown",
      "metadata": {
        "id": "view-in-github",
        "colab_type": "text"
      },
      "source": [
        "<a href=\"https://colab.research.google.com/github/prukac/Pytorch/blob/main/UIM_predzpracovani.ipynb\" target=\"_parent\"><img src=\"https://colab.research.google.com/assets/colab-badge.svg\" alt=\"Open In Colab\"/></a>"
      ]
    },
    {
      "cell_type": "code",
      "source": [],
      "metadata": {
        "id": "PK0WJ6BCylmB"
      },
      "execution_count": null,
      "outputs": []
    },
    {
      "cell_type": "code",
      "execution_count": 1,
      "metadata": {
        "id": "_fhC7rQdxsab"
      },
      "outputs": [],
      "source": [
        "import matplotlib.image as mpimg\n",
        "import matplotlib.pyplot as plt\n",
        "import numpy as np\n",
        "from numpy.matlib import repmat\n",
        "import random as rd\n",
        "import cv2\n",
        "import os\n",
        "from PIL import Image\n",
        "import matplotlib.pyplot as plt\n",
        "import tensorflow as tf\n",
        "from keras.preprocessing.image import ImageDataGenerator\n",
        "from skimage import io\n",
        "import skimage\n",
        "import pandas as pd\n",
        "import csv\n",
        "import imgaug.augmenters as iaa\n",
        "from google.colab.patches import cv2_imshow\n",
        "from skimage import io\n",
        "import random"
      ]
    },
    {
      "cell_type": "code",
      "source": [
        "\n",
        "from google.colab import drive\n",
        "drive.mount('/content/drive',force_remount=True)\n",
        "root_dir1 = \"/content/drive/MyDrive/augmented/\" #/MyDrive\n",
        "base_dir1 = root_dir1\n",
        "\n",
        "root_dir2 = \"/content/drive/MyDrive/Gray/\" #/MyDrive\n",
        "base_dir2 = root_dir2\n"
      ],
      "metadata": {
        "colab": {
          "base_uri": "https://localhost:8080/"
        },
        "id": "aRNuhJS0yOoX",
        "outputId": "d176c59b-3f53-4d79-9a06-279c134cb575"
      },
      "execution_count": 7,
      "outputs": [
        {
          "output_type": "stream",
          "name": "stdout",
          "text": [
            "Mounted at /content/drive\n"
          ]
        }
      ]
    },
    {
      "cell_type": "code",
      "source": [
        "fnames = os.listdir(base_dir1)\n",
        "for filename in fnames:\n",
        "  if \"ipynb\" in filename:\n",
        "    pass\n",
        "  else:\n",
        "    nameofdir = filename\n",
        "    nameofdir = '/'+nameofdir+'/'\n",
        "    root_dir1 = \"/content/drive/MyDrive/augmented/\" #/MyDrive\n",
        "    base_dir1 = root_dir1 + nameofdir\n",
        "    fnames1 = os.listdir(base_dir1)\n",
        "    for filename1 in fnames1:\n",
        "      if \"binary\" in filename1:\n",
        "        os.remove(base_dir1+'/'+filename1)\n",
        "\n",
        "\n"
      ],
      "metadata": {
        "id": "j9a3RLIX0U9H"
      },
      "execution_count": 95,
      "outputs": []
    },
    {
      "cell_type": "code",
      "source": [
        "def binary_image(img):\n",
        "  vertical_flattend = img.flatten()\n",
        "  filter = np.random.randint(1,2, size=len(vertical_flattend))\n",
        "\n",
        "  b = (vertical_flattend*filter) / 0.5\n",
        "  new = np.array(b).reshape((60, 60))\n",
        "\n",
        "  for i in range(len(b)):\n",
        "    if b[i] > 170:\n",
        "      b[i] = 0\n",
        "    else:\n",
        "      b[i] = 255\n",
        "\n",
        "  new_img = np.array(b).reshape((60, 60))\n",
        "  new_img = np.expand_dims(new_img,2)\n",
        "  return new_img"
      ],
      "metadata": {
        "id": "S-odKJksdOqN"
      },
      "execution_count": 90,
      "outputs": []
    },
    {
      "cell_type": "code",
      "source": [
        "def blur(img):\n",
        "  x= (cv2.blur(img,(4,4)))\n",
        "  x=np.expand_dims(x,2)\n",
        "  return x\n",
        "data_augmenter = ImageDataGenerator(\n",
        "    rotation_range=60,\n",
        "    width_shift_range=0.1,\n",
        "    height_shift_range=0.1,\n",
        "    shear_range=0.2,\n",
        "    zoom_range=0.1,\n",
        "    fill_mode='nearest',\n",
        "    #cval=0.0,\n",
        "    horizontal_flip=True,\n",
        "    vertical_flip=False,\n",
        "    preprocessing_function= binary_image,\n",
        "    #brightness_range=[0.5,1.5], #0 means no brightness (completely black), 1 means maximum brightness (no change), and anything above just makes the image brighter.\n",
        "    dtype=None)"
      ],
      "metadata": {
        "id": "OWQDjzz_U2s-"
      },
      "execution_count": 92,
      "outputs": []
    },
    {
      "cell_type": "code",
      "source": [
        "#vytvoreni, prvni varky augmentovanuch obrazku(bez bluru)\n",
        "\n",
        "os.environ['TF_CPP_MIN_LOG_LEVEL'] = '3'#3 = INFO, WARNING, and ERROR messages are not printed\n",
        "image_names = os.listdir(base_dir2)\n",
        "for image_name in image_names:\n",
        "    nameofdir = image_name.split('_')[0]\n",
        "    nameofdir = '/'+nameofdir+'/'\n",
        "    img = cv2.imread(f'{base_dir2}/{image_name}',1)\n",
        "    img1 = cv2.resize(img,(60,60))\n",
        "    gray = cv2.cvtColor(img1, cv2.COLOR_BGR2GRAY)\n",
        "    gray = np.expand_dims(gray, 2)\n",
        "    # get the augmented image\n",
        "    aug_img_iterator = data_augmenter.flow(x=np.expand_dims(gray,0),batch_size=2)\n",
        "    aug_img=next(aug_img_iterator)\n",
        "\n",
        "    # save the augmented image\n",
        "    cv2.imwrite(f'{base_dir1}/{nameofdir}/{image_name}_binary_white',aug_img[0,:,:,:])"
      ],
      "metadata": {
        "id": "4h0F2BlnU2gA"
      },
      "execution_count": 87,
      "outputs": []
    },
    {
      "cell_type": "code",
      "source": [],
      "metadata": {
        "id": "oq66R-NablQC"
      },
      "execution_count": null,
      "outputs": []
    },
    {
      "cell_type": "code",
      "source": [
        "img = cv2.imread(base_dir2 + 'eight_001.png')\n",
        "x=np.expand_dims(img,0)\n",
        "cv2_imshow(img)\n",
        "blur(img)\n",
        "cv2_imshow(blur(img))\n",
        "#img1 = cv2.resize(img,(60,60))\n",
        "#gray = cv2.cvtColor(img1, cv2.COLOR_BGR2GRAY)\n",
        "#gray = np.expand_dims(gray, 2)"
      ],
      "metadata": {
        "colab": {
          "base_uri": "https://localhost:8080/",
          "height": 132
        },
        "id": "dNbF4nqQUfe_",
        "outputId": "871ab220-cb13-4855-e941-10d62c3a9d67"
      },
      "execution_count": 42,
      "outputs": [
        {
          "output_type": "display_data",
          "data": {
            "text/plain": [
              "<PIL.Image.Image image mode=RGB size=39x55>"
            ],
            "image/png": "[encoded data removed]"
          },
          "metadata": {}
        },
        {
          "output_type": "display_data",
          "data": {
            "text/plain": [
              "<PIL.Image.Image image mode=RGB size=60x60>"
            ],
            "image/png": "[encoded data removed]"
          },
          "metadata": {}
        }
      ]
    },
    {
      "cell_type": "code",
      "source": [
        "#skript na zjisteni poctu zastoupeni jednotlivych obrazku v datasetu\n",
        "pocet = 0 #pocet vyskytu obrazku v datasetu\n",
        "fnames = os.listdir(base_dir) #zjisteni vsech nazvu souboru\n",
        "celkem = 0\n",
        "list_of_names = ['zero','one','two','three','four','five','six','seven','eight','nine']\n",
        "for cislo in list_of_names:\n",
        "  for name in fnames:\n",
        "    if cislo in name:\n",
        "      pocet+=1\n",
        "  print('Pocet: ',cislo,'je ',pocet)\n",
        "  celkem += pocet\n",
        "  pocet = 0"
      ],
      "metadata": {
        "colab": {
          "base_uri": "https://localhost:8080/"
        },
        "id": "fuRIy4DeyYLo",
        "outputId": "14695977-32e6-49d1-ca9f-dca8c7fbf26f"
      },
      "execution_count": null,
      "outputs": [
        {
          "output_type": "stream",
          "name": "stdout",
          "text": [
            "Pocet:  zero je  267\n",
            "Pocet:  one je  346\n",
            "Pocet:  two je  330\n",
            "Pocet:  three je  74\n",
            "Pocet:  four je  251\n",
            "Pocet:  five je  179\n",
            "Pocet:  six je  274\n",
            "Pocet:  seven je  265\n",
            "Pocet:  eight je  360\n",
            "Pocet:  nine je  220\n"
          ]
        }
      ]
    },
    {
      "cell_type": "code",
      "source": [
        "import imageio\n",
        "image = cv2.imread(base_dir1 + 'eight_001.png',cv2.IMREAD_GRAYSCALE)\n",
        "filename = 'eight_001.png'\n",
        "nameofdir = filename.split('_')[0]\n",
        "nameofdir = '/'+nameofdir+'/'\n"
      ],
      "metadata": {
        "colab": {
          "base_uri": "https://localhost:8080/",
          "height": 35
        },
        "id": "Dv2lYJwO4SlF",
        "outputId": "d01a7cf6-5e72-4237-d4b2-4f601727d7ab"
      },
      "execution_count": null,
      "outputs": [
        {
          "output_type": "execute_result",
          "data": {
            "text/plain": [
              "'/eight/'"
            ],
            "application/vnd.google.colaboratory.intrinsic+json": {
              "type": "string"
            }
          },
          "metadata": {},
          "execution_count": 31
        }
      ]
    },
    {
      "cell_type": "code",
      "source": [
        "fnames=os.listdir(base_dir1)\n",
        "\n",
        "for name in fnames:\n",
        "  if name =='references.csv':\n",
        "    pass\n",
        "  else:\n",
        "    img = Image.open(base_dir1 + name).convert('L')\n",
        "    img.save(base_dir2 + name)"
      ],
      "metadata": {
        "id": "M__AOocvdefZ"
      },
      "execution_count": null,
      "outputs": []
    },
    {
      "cell_type": "code",
      "source": [
        "img = cv2.imread(base_dir2 + 'eight_001.png')\n",
        "img1 = cv2.resize(img,(60,60))\n",
        "gray = cv2.cvtColor(img1, cv2.COLOR_BGR2GRAY)\n",
        "gray = np.expand_dims(gray, 2)\n",
        "cv2_imshow(img)\n",
        "gray.shape\n",
        "#gut, ted pres flow vytvorim jednotlive image augmenty viz foto"
      ],
      "metadata": {
        "colab": {
          "base_uri": "https://localhost:8080/",
          "height": 90
        },
        "id": "ai1NsAkjhY5B",
        "outputId": "e3737e8d-96cd-489e-be3a-aaaef4c19dba"
      },
      "execution_count": null,
      "outputs": [
        {
          "output_type": "display_data",
          "data": {
            "text/plain": [
              "<PIL.Image.Image image mode=RGB size=39x55>"
            ],
            "image/png": "[encoded data removed]"
          },
          "metadata": {}
        },
        {
          "output_type": "execute_result",
          "data": {
            "text/plain": [
              "(60, 60, 1)"
            ]
          },
          "metadata": {},
          "execution_count": 15
        }
      ]
    },
    {
      "cell_type": "code",
      "source": [
        "#prevedeni na grayscale pro snizeni vypocetni narocnosti + resize aby jsem mohl dale pouzit dataaugment techniku datagen flow\n",
        "\n",
        "\n",
        "fnames = os.listdir(base_dir1)\n",
        "for filename in fnames:\n",
        "  if filename == 'references.csv': #vynecham tuto slozku\n",
        "    pass\n",
        "  else:\n",
        "    nameofdir = filename.split('_')[0] #zisk jmena slozky\n",
        "    nameofdir = '/'+nameofdir+'/'\n",
        "\n",
        "    base_dir2 = root_dir2 + nameofdir\n",
        "\n",
        "    img = cv2.imread(base_dir2 + filename)\n",
        "    resize_img = cv2.resize(img,(60,60))\n",
        "    gray = cv2.cvtColor(resize_img,cv2.COLOR_BGR2GRAY)\n",
        "    gray = np.expand_dims(gray, 2)\n",
        "    cv2.imwrite(base_dir2 + filename, gray)\n"
      ],
      "metadata": {
        "id": "rLH8xNwO1x9A"
      },
      "execution_count": null,
      "outputs": []
    },
    {
      "cell_type": "code",
      "source": [
        "img = cv2.imread(base_dir2 + 'five_003.png',cv2.)\n",
        "img.shape"
      ],
      "metadata": {
        "colab": {
          "base_uri": "https://localhost:8080/"
        },
        "id": "cA4dn5gey0eo",
        "outputId": "5fc2560b-09b4-47ef-d5e9-35fc601391bc"
      },
      "execution_count": null,
      "outputs": [
        {
          "output_type": "execute_result",
          "data": {
            "text/plain": [
              "(60, 60, 3)"
            ]
          },
          "metadata": {},
          "execution_count": 88
        }
      ]
    }
  ]
}